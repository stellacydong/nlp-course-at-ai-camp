{
 "cells": [
  {
   "cell_type": "markdown",
   "metadata": {
    "collapsed": false
   },
   "source": [
    "## Data Preprocessing\n",
    "\n",
    "Objectives: \n",
    "\n",
    "We will present how to apply the following preprocessing tasks to a simple example:\n",
    "\n",
    "1.Convert everything to lowercase\n",
    "\n",
    "2.Remove HTML tags\n",
    "\n",
    "3.Contraction mapping\n",
    "\n",
    "4.Remove (‘s)\n",
    "\n",
    "5.Remove any text inside the parenthesis ( )\n",
    "\n",
    "6.Eliminate punctuations and special characters\n",
    "\n",
    "7.Remove stopwords\n",
    "\n",
    "8.Remove short words"
   ]
  },
  {
   "cell_type": "markdown",
   "metadata": {
    "collapsed": false
   },
   "source": [
    "## require packages if you have not installed \n",
    "\n",
    "        pip install bs4\n",
    "        pip install lxml\n",
    "        pip install nltk"
   ]
  },
  {
   "cell_type": "code",
   "execution_count": 15,
   "metadata": {
    "collapsed": false
   },
   "outputs": [
   ],
   "source": [
    "# import library\n",
    "import re"
   ]
  },
  {
   "cell_type": "code",
   "execution_count": 16,
   "metadata": {
    "collapsed": false
   },
   "outputs": [
   ],
   "source": [
    "# Here is the dictionary that we will use for expanding the contractions:\n",
    "    \n",
    "contraction_mapping = {\"ain't\": \"is not\", \n",
    "                       \"aren't\": \"are not\",\n",
    "                       \"can't\": \"cannot\", \n",
    "                       \"'cause\": \"because\", \n",
    "                       \"could've\": \"could have\", \"couldn't\": \"could not\",\n",
    "                           \"didn't\": \"did not\",  \"doesn't\": \"does not\", \"don't\": \"do not\", \"hadn't\": \"had not\", \"hasn't\": \"has not\", \"haven't\": \"have not\",\n",
    "                           \"he'd\": \"he would\",\"he'll\": \"he will\", \"he's\": \"he is\", \"how'd\": \"how did\", \"how'd'y\": \"how do you\", \"how'll\": \"how will\", \"how's\": \"how is\",\n",
    "                           \"I'd\": \"I would\", \"I'd've\": \"I would have\", \"I'll\": \"I will\", \"I'll've\": \"I will have\",\"I'm\": \"I am\", \"I've\": \"I have\", \"i'd\": \"i would\",\n",
    "                           \"i'd've\": \"i would have\", \"i'll\": \"i will\",  \"i'll've\": \"i will have\",\"i'm\": \"i am\", \"i've\": \"i have\", \"isn't\": \"is not\", \"it'd\": \"it would\",\n",
    "                           \"it'd've\": \"it would have\", \"it'll\": \"it will\", \"it'll've\": \"it will have\",\"it's\": \"it is\", \"let's\": \"let us\", \"ma'am\": \"madam\",\n",
    "                           \"mayn't\": \"may not\", \"might've\": \"might have\",\"mightn't\": \"might not\",\"mightn't've\": \"might not have\", \"must've\": \"must have\",\n",
    "                           \"mustn't\": \"must not\", \"mustn't've\": \"must not have\", \"needn't\": \"need not\", \"needn't've\": \"need not have\",\"o'clock\": \"of the clock\",\n",
    "                           \"oughtn't\": \"ought not\", \"oughtn't've\": \"ought not have\", \"shan't\": \"shall not\", \"sha'n't\": \"shall not\", \"shan't've\": \"shall not have\",\n",
    "                           \"she'd\": \"she would\", \"she'd've\": \"she would have\", \"she'll\": \"she will\", \"she'll've\": \"she will have\", \"she's\": \"she is\",\n",
    "                           \"should've\": \"should have\", \"shouldn't\": \"should not\", \"shouldn't've\": \"should not have\", \"so've\": \"so have\",\"so's\": \"so as\",\n",
    "                           \"this's\": \"this is\",\"that'd\": \"that would\", \"that'd've\": \"that would have\", \"that's\": \"that is\", \"there'd\": \"there would\",\n",
    "                           \"there'd've\": \"there would have\", \"there's\": \"there is\", \"here's\": \"here is\",\"they'd\": \"they would\", \"they'd've\": \"they would have\",\n",
    "                           \"they'll\": \"they will\", \"they'll've\": \"they will have\", \"they're\": \"they are\", \"they've\": \"they have\", \"to've\": \"to have\",\n",
    "                           \"wasn't\": \"was not\", \"we'd\": \"we would\", \"we'd've\": \"we would have\", \"we'll\": \"we will\", \"we'll've\": \"we will have\", \"we're\": \"we are\",\n",
    "                           \"we've\": \"we have\", \"weren't\": \"were not\", \"what'll\": \"what will\", \"what'll've\": \"what will have\", \"what're\": \"what are\",\n",
    "                           \"what's\": \"what is\", \"what've\": \"what have\", \"when's\": \"when is\", \"when've\": \"when have\", \"where'd\": \"where did\", \"where's\": \"where is\",\n",
    "                           \"where've\": \"where have\", \"who'll\": \"who will\", \"who'll've\": \"who will have\", \"who's\": \"who is\", \"who've\": \"who have\",\n",
    "                           \"why's\": \"why is\", \"why've\": \"why have\", \"will've\": \"will have\", \"won't\": \"will not\", \"won't've\": \"will not have\",\n",
    "                           \"would've\": \"would have\", \"wouldn't\": \"would not\", \"wouldn't've\": \"would not have\", \"y'all\": \"you all\",\n",
    "                           \"y'all'd\": \"you all would\",\"y'all'd've\": \"you all would have\",\"y'all're\": \"you all are\",\"y'all've\": \"you all have\",\n",
    "                           \"you'd\": \"you would\", \"you'd've\": \"you would have\", \"you'll\": \"you will\", \"you'll've\": \"you will have\",\n",
    "                           \"you're\": \"you are\", \"you've\": \"you have\"}"
   ]
  },
  {
   "cell_type": "code",
   "execution_count": 17,
   "metadata": {
    "collapsed": false
   },
   "outputs": [
    {
     "name": "stdout",
     "output_type": "stream",
     "text": [
      " I'm abcd. MY FAVORITE SUBJECT is STEM (Science Tech Eng Math). Please come to vist the website https://www.ai-camp.org. Some HTML ... <img src=\"subdirectory/MyImage.png\" width=60 height=60 />. I make $234234 every year!!!!\n"
     ]
    }
   ],
   "source": [
    "text = \"\"\" I'm abcd. MY FAVORITE SUBJECT is STEM (Science Tech Eng Math). Please come to vist the website https://www.ai-camp.org. Some HTML ... <img src=\"subdirectory/MyImage.png\" width=60 height=60 />. I make $234234 every year!!!!\"\"\"\n",
    "print(text)"
   ]
  },
  {
   "cell_type": "code",
   "execution_count": 18,
   "metadata": {
    "collapsed": false
   },
   "outputs": [
    {
     "name": "stdout",
     "output_type": "stream",
     "text": [
      " i'm abcd. my favorite subject is stem (science tech eng math). please come to vist the website https://www.ai-camp.org. some html ... <img src=\"subdirectory/myimage.png\" width=60 height=60 />. i make $234234 every year!!!!\n"
     ]
    }
   ],
   "source": [
    "# 1.Convert everything to lowercase\n",
    "text = text.lower()\n",
    "print(text)"
   ]
  },
  {
   "cell_type": "code",
   "execution_count": 19,
   "metadata": {
    "collapsed": false
   },
   "outputs": [
    {
     "name": "stdout",
     "output_type": "stream",
     "text": [
      "i'm abcd. my favorite subject is stem (science tech eng math). please come to vist the website https://www.ai-camp.org. some html ... . i make $234234 every year!!!!\n"
     ]
    }
   ],
   "source": [
    "# 2.Remove HTML tags\n",
    "from bs4 import BeautifulSoup\n",
    "text = BeautifulSoup(text, \"lxml\").text\n",
    "print(text)"
   ]
  },
  {
   "cell_type": "code",
   "execution_count": 20,
   "metadata": {
    "collapsed": false
   },
   "outputs": [
    {
     "name": "stdout",
     "output_type": "stream",
     "text": [
      "i'm abcd. my favorite subject is stem (science tech eng math). please come to vist the website  some html ... . i make $234234 every year!!!!\n"
     ]
    }
   ],
   "source": [
    "# 3.get rid of urls\n",
    "text = re.sub('https?://\\S+|www\\.\\S+', '', text)\n",
    "print(text)"
   ]
  },
  {
   "cell_type": "code",
   "execution_count": 21,
   "metadata": {
    "collapsed": false
   },
   "outputs": [
    {
     "name": "stdout",
     "output_type": "stream",
     "text": [
      "i am abcd. my favorite subject is stem (science tech eng math). please come to vist the website  some html ... . i make $234234 every year!!!!\n"
     ]
    }
   ],
   "source": [
    "# 4.Contraction mapping\n",
    "text = ' '.join([contraction_mapping[t] if t in contraction_mapping else t for t in text.split(\" \")])\n",
    "print(text)"
   ]
  },
  {
   "cell_type": "code",
   "execution_count": 22,
   "metadata": {
    "collapsed": false
   },
   "outputs": [
    {
     "name": "stdout",
     "output_type": "stream",
     "text": [
      "i am abcd my favorite subject is stem science tech eng math please come to vist the website some html i make        every year\n"
     ]
    }
   ],
   "source": [
    "# 5.get rid of non words and extra spaces\n",
    "# Remove (‘s)\n",
    "# Eliminate punctuations and special characters\n",
    "text = re.sub('\\\\W', ' ', text)\n",
    "text = re.sub('\\n', '', text)\n",
    "text = re.sub(' +', ' ', text)\n",
    "text = re.sub('^ ', '', text)\n",
    "text = re.sub(' $', '', text)\n",
    "text = re.sub(r'\\([^)]*\\)', '', text)\n",
    "text = re.sub('\"','', text)  \n",
    "text = re.sub(r\"'s\\b\",\"\",text)\n",
    "text = re.sub(\"[^a-zA-Z]\", \" \", text) \n",
    "text = re.sub('[m]{2,}', 'mm', text)\n",
    "print(text)"
   ]
  },
  {
   "cell_type": "code",
   "execution_count": 23,
   "metadata": {
    "collapsed": false
   },
   "outputs": [
    {
     "name": "stderr",
     "output_type": "stream",
     "text": [
      "[nltk_data] Downloading package stopwords to /projects/ae15c660-30de-4\n",
      "[nltk_data]     74e-abca-5963358c9eb9/nltk_data...\n",
      "[nltk_data]   Package stopwords is already up-to-date!\n"
     ]
    }
   ],
   "source": [
    "# 6.Remove stopwords using NLTK\n",
    "import nltk\n",
    "from nltk.corpus import stopwords\n",
    "nltk.download('stopwords')\n",
    "\n",
    "stop_words = set(stopwords.words('english')) \n"
   ]
  },
  {
   "cell_type": "code",
   "execution_count": 24,
   "metadata": {
    "collapsed": false
   },
   "outputs": [
    {
     "name": "stdout",
     "output_type": "stream",
     "text": [
      "{'himself', 'any', \"didn't\", 't', 'by', 'y', 'same', 'your', 'between', 'very', 'these', 'can', 'has', \"don't\", 'll', 'off', 'you', 'before', 'if', 'was', 'how', 'her', 'not', \"you've\", 'ours', 'in', 'each', \"doesn't\", 'ma', 'our', 'a', \"she's\", 'that', 'will', \"shan't\", \"should've\", \"won't\", 'mightn', 'but', 'no', \"hasn't\", 'some', 'during', 'from', 'too', 'theirs', 'until', 'themselves', 'out', 'further', 'being', 'needn', 'does', 'wouldn', 'they', 'myself', 'is', 'while', 'this', \"isn't\", \"shouldn't\", 'haven', 'such', 'didn', 'now', 'm', 'whom', \"you're\", \"mightn't\", 'have', \"haven't\", 's', 'for', 'i', 'were', 'hadn', 'ourselves', 'its', 'yours', 'under', 'she', 'hers', 'at', 'ain', 'because', 'been', 'doesn', 'aren', 'which', 'hasn', 'just', \"weren't\", 'below', 'both', 'it', 'after', 'we', 'herself', 'few', 'do', 'don', 'more', 'd', 'yourself', 'won', 'be', \"wouldn't\", 'had', 'other', 'an', 'on', 'he', 'up', \"hadn't\", 'having', 'wasn', \"wasn't\", 'own', 'me', 'them', \"couldn't\", 'their', 'into', 'itself', 'isn', 'so', 'shan', 'am', 're', 'shouldn', 'with', 'again', 'down', 'where', 'only', \"that'll\", 'mustn', 'doing', 'did', 'about', 'of', 'why', 'are', 'than', 'and', 'yourselves', \"you'd\", 'him', 'or', 'once', 'as', 'there', 'most', 'through', \"needn't\", 'weren', 'nor', 'those', 'against', \"it's\", 'couldn', 'should', \"you'll\", 'my', 'his', 'what', 'o', 'all', \"mustn't\", 've', \"aren't\", 'here', 'to', 'above', 'who', 'the', 'over', 'when', 'then'}\n"
     ]
    }
   ],
   "source": [
    "print(stop_words)"
   ]
  },
  {
   "cell_type": "code",
   "execution_count": 25,
   "metadata": {
    "collapsed": false
   },
   "outputs": [
    {
     "name": "stdout",
     "output_type": "stream",
     "text": [
      "['abcd', 'favorite', 'subject', 'stem', 'science', 'tech', 'eng', 'math', 'please', 'come', 'vist', 'website', 'html', 'make', 'every', 'year']\n"
     ]
    }
   ],
   "source": [
    "num = 0\n",
    "if(num==0):\n",
    "    tokens = [w for w in text.split() if not w in stop_words]\n",
    "else:\n",
    "    tokens=text.split()\n",
    "    \n",
    "print(tokens)"
   ]
  },
  {
   "cell_type": "code",
   "execution_count": 26,
   "metadata": {
    "collapsed": false
   },
   "outputs": [
    {
     "name": "stdout",
     "output_type": "stream",
     "text": [
      "['abcd', 'favorite', 'subject', 'stem', 'science', 'tech', 'eng', 'math', 'please', 'come', 'vist', 'website', 'html', 'make', 'every', 'year']\n"
     ]
    }
   ],
   "source": [
    "# 7.Remove short words\n",
    "long_words=[]\n",
    "for i in tokens:\n",
    "    if len(i)>1:                                                 #removing short word\n",
    "        long_words.append(i)   \n",
    "\n",
    "print(long_words)"
   ]
  },
  {
   "cell_type": "code",
   "execution_count": 27,
   "metadata": {
    "collapsed": false
   },
   "outputs": [
    {
     "name": "stdout",
     "output_type": "stream",
     "text": [
      "abcd favorite subject stem science tech eng math please come vist website html make every year\n"
     ]
    }
   ],
   "source": [
    "cleaned_text = (\" \".join(long_words)).strip()\n",
    "print(cleaned_text)"
   ]
  },
  {
   "cell_type": "code",
   "execution_count": 0,
   "metadata": {
    "collapsed": false
   },
   "outputs": [
   ],
   "source": [
   ]
  },
  {
   "cell_type": "code",
   "execution_count": 0,
   "metadata": {
    "collapsed": false
   },
   "outputs": [
   ],
   "source": [
   ]
  },
  {
   "cell_type": "code",
   "execution_count": 0,
   "metadata": {
    "collapsed": false
   },
   "outputs": [
   ],
   "source": [
   ]
  },
  {
   "cell_type": "code",
   "execution_count": 0,
   "metadata": {
    "collapsed": false
   },
   "outputs": [
   ],
   "source": [
   ]
  }
 ],
 "metadata": {
  "kernelspec": {
   "display_name": "Python 3 (Ubuntu Linux)",
   "language": "python",
   "name": "python3-ubuntu",
   "resource_dir": "/usr/local/share/jupyter/kernels/python3-ubuntu"
  },
  "language_info": {
   "codemirror_mode": {
    "name": "ipython",
    "version": 3
   },
   "file_extension": ".py",
   "mimetype": "text/x-python",
   "name": "python",
   "nbconvert_exporter": "python",
   "pygments_lexer": "ipython3",
   "version": "3.8.5"
  }
 },
 "nbformat": 4,
 "nbformat_minor": 4
}