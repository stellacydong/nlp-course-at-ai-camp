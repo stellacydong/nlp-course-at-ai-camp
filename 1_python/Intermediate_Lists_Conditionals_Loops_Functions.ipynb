{
 "cells": [
  {
   "cell_type": "markdown",
   "metadata": {
    "collapsed": false,
    "id": "rtjMJi5EKs2I"
   },
   "source": [
    "## In this tutorial you will build a mini version of the classic tic-tac-toe game \n"
   ]
  },
  {
   "cell_type": "markdown",
   "metadata": {
    "collapsed": false
   },
   "source": [
    "objectives: \n",
    "\n",
    "1) print statement \n",
    "\n",
    "2) create list, list of lists \n",
    "\n",
    "3) learn for, if ... else if ... else loop \n",
    "\n",
    "4) define your own functions"
   ]
  },
  {
   "cell_type": "markdown",
   "metadata": {
    "collapsed": false,
    "id": "XO3q-lGANIGR"
   },
   "source": [
    "### Task 1: make the game board"
   ]
  },
  {
   "cell_type": "markdown",
   "metadata": {
    "collapsed": false
   },
   "source": [
    "#### LEARN print statement"
   ]
  },
  {
   "cell_type": "code",
   "execution_count": 4,
   "metadata": {
    "colab": {
     "base_uri": "https://localhost:8080/"
    },
    "collapsed": false,
    "id": "Gag5g-ncKZ_T",
    "outputId": "2b847eb9-7f54-4166-ffbe-79350ea2fd31"
   },
   "outputs": [
    {
     "name": "stdout",
     "output_type": "stream",
     "text": [
      "Hello world!\n"
     ]
    }
   ],
   "source": [
    "# in most CS class/books, the first thing, you will learn is how to print \"hello world!\" statement \n",
    "print('Hello world!')"
   ]
  },
  {
   "cell_type": "code",
   "execution_count": 5,
   "metadata": {
    "colab": {
     "base_uri": "https://localhost:8080/"
    },
    "collapsed": false,
    "id": "qwYwqTdhKnKh",
    "outputId": "d15a4e4d-536d-4889-e916-10155fa4d477"
   },
   "outputs": [
    {
     "name": "stdout",
     "output_type": "stream",
     "text": [
      "Hello world!\n"
     ]
    }
   ],
   "source": [
    "# in python, you can use single quotation or double quotation, they are equivalent \n",
    "print(\"Hello world!\")"
   ]
  },
  {
   "cell_type": "code",
   "execution_count": 6,
   "metadata": {
    "collapsed": false
   },
   "outputs": [
    {
     "name": "stdout",
     "output_type": "stream",
     "text": [
      "Hello world! \n",
      "My name is Stella.\n"
     ]
    }
   ],
   "source": [
    "# use \\n to write new line \n",
    "print('Hello world! \\nMy name is Stella.')"
   ]
  },
  {
   "cell_type": "markdown",
   "metadata": {
    "collapsed": false
   },
   "source": [
    "#### LEARN for loop"
   ]
  },
  {
   "cell_type": "code",
   "execution_count": 7,
   "metadata": {
    "collapsed": false
   },
   "outputs": [
    {
     "name": "stdout",
     "output_type": "stream",
     "text": [
      "Hello world!\n",
      "Hello world!\n",
      "Hello world!\n",
      "Hello world!\n",
      "Hello world!\n"
     ]
    }
   ],
   "source": [
    "# what if we need to print 5 times? \n",
    "\n",
    "for k in range(5):\n",
    "    print('Hello world!')"
   ]
  },
  {
   "cell_type": "code",
   "execution_count": 8,
   "metadata": {
    "collapsed": false
   },
   "outputs": [
    {
     "name": "stdout",
     "output_type": "stream",
     "text": [
      "0 Hello world!\n",
      "1 Hello world!\n",
      "2 Hello world!\n",
      "3 Hello world!\n",
      "4 Hello world!\n"
     ]
    }
   ],
   "source": [
    "# how can i add numbers? \n",
    "for k in range(5):\n",
    "    print(k, 'Hello world!')"
   ]
  },
  {
   "cell_type": "code",
   "execution_count": 9,
   "metadata": {
    "collapsed": false
   },
   "outputs": [
    {
     "name": "stdout",
     "output_type": "stream",
     "text": [
      "1 Hello world!\n",
      "2 Hello world!\n",
      "3 Hello world!\n",
      "4 Hello world!\n",
      "5 Hello world!\n"
     ]
    }
   ],
   "source": [
    "# how can i add numbers? \n",
    "for k in range(1,6):\n",
    "    print(k, 'Hello world!')"
   ]
  },
  {
   "cell_type": "code",
   "execution_count": 10,
   "metadata": {
    "colab": {
     "base_uri": "https://localhost:8080/"
    },
    "collapsed": false,
    "id": "9Ku2xik3NM9F",
    "outputId": "96eb28e1-c170-4799-a399-c7a6b4cab9b7"
   },
   "outputs": [
    {
     "name": "stdout",
     "output_type": "stream",
     "text": [
      " --- \n",
      "|   |\n",
      " ---\n"
     ]
    }
   ],
   "source": [
    "# use print statement to make a square \n",
    "print(' --- ')\n",
    "print('|   |')\n",
    "print(' ---')"
   ]
  },
  {
   "cell_type": "code",
   "execution_count": 11,
   "metadata": {
    "colab": {
     "base_uri": "https://localhost:8080/"
    },
    "collapsed": false,
    "id": "hEQ8-oplIQSk",
    "outputId": "709987fb-f14c-4b60-b0e6-0909974a6285"
   },
   "outputs": [
    {
     "name": "stdout",
     "output_type": "stream",
     "text": [
      " --- --- ---\n",
      "|   |   |   |\n",
      " --- --- ---\n",
      "|   |   |   |\n",
      " --- --- ---\n",
      "|   |   |   |\n",
      " --- --- ---\n"
     ]
    }
   ],
   "source": [
    "# method 1 \n",
    "# make a 3x3 grid?\n",
    "print(' --- --- ---')\n",
    "print('|   |   |   |')\n",
    "print(' --- --- ---')\n",
    "print('|   |   |   |')\n",
    "print(' --- --- ---')\n",
    "print('|   |   |   |')\n",
    "print(' --- --- ---')"
   ]
  },
  {
   "cell_type": "code",
   "execution_count": 12,
   "metadata": {
    "colab": {
     "base_uri": "https://localhost:8080/"
    },
    "collapsed": false,
    "id": "BhtJNKQDIQSl",
    "outputId": "2adde681-4c10-452d-bec0-011a89e2a1a3"
   },
   "outputs": [
    {
     "name": "stdout",
     "output_type": "stream",
     "text": [
      " --- --- ---\n",
      "|   |   |   |\n",
      " --- --- ---\n",
      "|   |   |   |\n",
      " --- --- ---\n",
      "|   |   |   |\n",
      " --- --- ---\n"
     ]
    }
   ],
   "source": [
    "# method 2 \n",
    "a = ' --- --- ---'\n",
    "b = '|   |   |   |'\n",
    "print(a + '\\n' + b + '\\n'+ a + '\\n' + b + '\\n' + a +  '\\n' + b +  '\\n' + a)"
   ]
  },
  {
   "cell_type": "code",
   "execution_count": 13,
   "metadata": {
    "collapsed": false
   },
   "outputs": [
    {
     "name": "stdout",
     "output_type": "stream",
     "text": [
      " --- --- ---\n",
      "|   |   |   |   \n"
     ]
    }
   ],
   "source": [
    "# if we need to print something multiple times \n",
    "\n",
    "print(' ---' * 3)\n",
    "\n",
    "print('|   ' * 4)"
   ]
  },
  {
   "cell_type": "code",
   "execution_count": 14,
   "metadata": {
    "colab": {
     "base_uri": "https://localhost:8080/"
    },
    "collapsed": false,
    "id": "f57frfxzIQSm",
    "outputId": "2ec3a066-9925-47d4-e1c5-4534d9d1f1fd"
   },
   "outputs": [
    {
     "name": "stdout",
     "output_type": "stream",
     "text": [
      " --- --- ---\n",
      "|   |   |   |\n",
      " --- --- ---\n",
      "|   |   |   |\n",
      " --- --- ---\n",
      "|   |   |   |\n",
      " --- --- ---\n"
     ]
    }
   ],
   "source": [
    "# method 3\n",
    "a = ' --- --- ---'\n",
    "b = '|   |   |   |'\n",
    "for index in range(3):\n",
    "    print(a)\n",
    "    print(b)\n",
    "print(a)\n"
   ]
  },
  {
   "cell_type": "markdown",
   "metadata": {
    "collapsed": false
   },
   "source": [
    "#### LEARN define functions "
   ]
  },
  {
   "cell_type": "code",
   "execution_count": 15,
   "metadata": {
    "colab": {
     "base_uri": "https://localhost:8080/"
    },
    "collapsed": false,
    "id": "qsqa_T69IQSn",
    "outputId": "62239cd8-8ced-41af-d5e3-7163f0fea406"
   },
   "outputs": [
    {
     "name": "stdout",
     "output_type": "stream",
     "text": [
      " ---  ---  --- \n",
      "|    |    |    |    \n",
      " ---  ---  --- \n",
      "|    |    |    |    \n",
      " ---  ---  --- \n",
      "|    |    |    |    \n",
      " ---  ---  --- \n"
     ]
    }
   ],
   "source": [
    "# method 4 \n",
    "def print_horiz_line():\n",
    "    print(\" --- \" * 3)\n",
    "def print_vert_line():\n",
    "    print(\"|    \" * (3 + 1))\n",
    "\n",
    "if __name__ == \"__main__\":\n",
    "    for index in range(3):\n",
    "        print_horiz_line()\n",
    "        print_vert_line()\n",
    "    print_horiz_line()"
   ]
  },
  {
   "cell_type": "code",
   "execution_count": 16,
   "metadata": {
    "cocalc": {
     "outputs": {
      "0": {
       "name": "input",
       "opts": {
        "password": false,
        "prompt": "enter the size of the board that you want: "
       },
       "output_type": "stream",
       "value": "3"
      }
     }
    },
    "colab": {
     "base_uri": "https://localhost:8080/"
    },
    "collapsed": false,
    "id": "bsFlMXVWIQSn",
    "outputId": "78e590b4-b114-4428-bf36-8fa12cf09c73"
   },
   "outputs": [
    {
     "name": "stdout",
     "output_type": "stream",
     "text": "enter the size of the board that you want:  3"
    },
    {
     "name": "stdout",
     "output_type": "stream",
     "text": [
      " ---  ---  --- \n",
      "|    |    |    |    \n",
      " ---  ---  --- \n",
      "|    |    |    |    \n",
      " ---  ---  --- \n",
      "|    |    |    |    \n",
      " ---  ---  --- \n"
     ]
    }
   ],
   "source": [
    "# modify the code to work for any size of game board \n",
    "\n",
    "# board_size = int(input(\"What size of game board? \"))\n",
    "\n",
    "board_size = int(input('enter the size of the board that you want: '))\n",
    "\n",
    "def print_horiz_line():\n",
    "    print(\" --- \" * board_size)\n",
    "def print_vert_line():\n",
    "    print(\"|    \" * (board_size + 1))\n",
    "\n",
    "if __name__ == \"__main__\":\n",
    "    for index in range(board_size):\n",
    "        print_horiz_line()\n",
    "        print_vert_line()\n",
    "    print_horiz_line()"
   ]
  },
  {
   "cell_type": "markdown",
   "metadata": {
    "collapsed": false,
    "id": "b95TzG-OIQSo"
   },
   "source": [
    "## Task 2: Check Tic Tac Toe\n",
    "\n",
    "Suppose a game of Tic Tac Toe is represented as a list of lists. \n",
    "\n",
    "* 0 means an empty square, \n",
    "* 1 means that player 1 put their token in that space, \n",
    "* 2 means that player 2 put their token in that space. \n",
    "\n",
    "Write a program to check whether anyone has won, and tell me which player won, if any. \n",
    "\n",
    "Rule of tic-tac-toe game. A Tic Tac Toe win is 3 in a row - either in a row, a column, or a diagonal. Don’t worry about the case where TWO people have won - assume that in every board there will only be one winner.\n",
    "\n",
    "\n"
   ]
  },
  {
   "cell_type": "markdown",
   "metadata": {
    "collapsed": false
   },
   "source": [
    "#### LEARN if ... else ..."
   ]
  },
  {
   "cell_type": "code",
   "execution_count": 17,
   "metadata": {
    "collapsed": false
   },
   "outputs": [
    {
     "name": "stdout",
     "output_type": "stream",
     "text": [
      "a is positive\n"
     ]
    }
   ],
   "source": [
    "a = 3 \n",
    "\n",
    "# if a > 0, print \"a is positive\"\n",
    "# else, print \"a is negative\"\n",
    "\n",
    "if a>0:\n",
    "    print('a is positive')\n",
    "else:\n",
    "    print('a is negative')"
   ]
  },
  {
   "cell_type": "code",
   "execution_count": 18,
   "metadata": {
    "collapsed": false
   },
   "outputs": [
   ],
   "source": [
    "def check_number(a):\n",
    "    if a>0:\n",
    "        print('a is positive')\n",
    "    else:\n",
    "        print('a is negative')"
   ]
  },
  {
   "cell_type": "code",
   "execution_count": 19,
   "metadata": {
    "collapsed": false
   },
   "outputs": [
    {
     "name": "stdout",
     "output_type": "stream",
     "text": [
      "a is positive\n"
     ]
    }
   ],
   "source": [
    "check_number(0.234)"
   ]
  },
  {
   "cell_type": "code",
   "execution_count": 20,
   "metadata": {
    "collapsed": false
   },
   "outputs": [
    {
     "name": "stdout",
     "output_type": "stream",
     "text": [
      "a is negative\n"
     ]
    }
   ],
   "source": [
    "check_number(-123341)"
   ]
  },
  {
   "cell_type": "markdown",
   "metadata": {
    "collapsed": false
   },
   "source": [
    "#### LEARN if ... elseif ... else "
   ]
  },
  {
   "cell_type": "code",
   "execution_count": 21,
   "metadata": {
    "collapsed": false
   },
   "outputs": [
    {
     "name": "stdout",
     "output_type": "stream",
     "text": [
      "a is zero\n"
     ]
    }
   ],
   "source": [
    "# if a > 0, print \"a is positive\"\n",
    "# else if, print \"a is negative\"\n",
    "# else, print 'a is 0'\n",
    "\n",
    "a = 0\n",
    "\n",
    "if a > 0:\n",
    "    print('a is positive')\n",
    "elif a < 0: \n",
    "    print('a is negative')\n",
    "else:\n",
    "    print('a is zero')"
   ]
  },
  {
   "cell_type": "markdown",
   "metadata": {
    "collapsed": false
   },
   "source": [
    "#### In class exercise\n",
    "\n",
    "A school has following rules for grading system:\n",
    "\n",
    "a. Below 25 - F\n",
    "\n",
    "b. 25 to 45 - E\n",
    "\n",
    "c. 45 to 50 - D\n",
    "\n",
    "d. 50 to 60 - C\n",
    "\n",
    "e. 60 to 80 - B\n",
    "\n",
    "f. Above 80 - A\n",
    "\n",
    "Ask user to enter marks and print the corresponding grade."
   ]
  },
  {
   "cell_type": "markdown",
   "metadata": {
    "collapsed": false
   },
   "source": [
    "#### LEARN list "
   ]
  },
  {
   "cell_type": "code",
   "execution_count": 22,
   "metadata": {
    "collapsed": false,
    "id": "SHqPjqvBIQSp"
   },
   "outputs": [
   ],
   "source": [
    "# empty list \n",
    "empty_list = []"
   ]
  },
  {
   "cell_type": "code",
   "execution_count": 23,
   "metadata": {
    "collapsed": false,
    "id": "Eb-8ZoO-RfBr"
   },
   "outputs": [
   ],
   "source": [
    "# list of numbers  \n",
    "list_of_numbers = [1, 2, -213, 123, 123.23, -0.123]"
   ]
  },
  {
   "cell_type": "code",
   "execution_count": 24,
   "metadata": {
    "collapsed": false
   },
   "outputs": [
    {
     "name": "stdout",
     "output_type": "stream",
     "text": [
      "the 1st element of list_of_numbers is  1\n"
     ]
    }
   ],
   "source": [
    "print('the 1st element of list_of_numbers is ', list_of_numbers[0])"
   ]
  },
  {
   "cell_type": "code",
   "execution_count": 25,
   "metadata": {
    "collapsed": false
   },
   "outputs": [
    {
     "name": "stdout",
     "output_type": "stream",
     "text": [
      "the 2nd element of list_of_numbers is  2\n"
     ]
    }
   ],
   "source": [
    "print('the 2nd element of list_of_numbers is ', list_of_numbers[1])"
   ]
  },
  {
   "cell_type": "code",
   "execution_count": 26,
   "metadata": {
    "collapsed": false
   },
   "outputs": [
    {
     "name": "stdout",
     "output_type": "stream",
     "text": [
      "the length of the list is  6\n"
     ]
    }
   ],
   "source": [
    "print('the length of the list is ', len(list_of_numbers))"
   ]
  },
  {
   "cell_type": "code",
   "execution_count": 27,
   "metadata": {
    "collapsed": false
   },
   "outputs": [
    {
     "name": "stdout",
     "output_type": "stream",
     "text": [
      "1\n",
      "2\n",
      "-213\n",
      "123\n",
      "123.23\n",
      "-0.123\n"
     ]
    }
   ],
   "source": [
    "# print out all the elements \n",
    "for item in list_of_numbers:\n",
    "    print(item)"
   ]
  },
  {
   "cell_type": "code",
   "execution_count": 28,
   "metadata": {
    "collapsed": false
   },
   "outputs": [
    {
     "name": "stdout",
     "output_type": "stream",
     "text": [
      "1\n",
      "2\n",
      "-213\n",
      "123\n",
      "123.23\n",
      "-0.123\n"
     ]
    }
   ],
   "source": [
    "# alternative way to print all the elements in a list using index \n",
    "for index in range(len(list_of_numbers)):\n",
    "    print(list_of_numbers[index])"
   ]
  },
  {
   "cell_type": "markdown",
   "metadata": {
    "collapsed": false,
    "id": "LtuENmbGReh6"
   },
   "source": [
    "### In class exercise\n",
    "\n",
    "If you are given a list of integers: \n",
    "\n",
    "l = [123, -123, 1, 0, 12334136, -134314, 11, 34] \n",
    "\n",
    "divide the list above into two lists: even and odd. \n",
    "\n",
    "The expected output will be \n",
    "\n",
    "even = [0, 12334136, -134314, 34]\n",
    "\n",
    "odd = [123, -123, 1, 11]\n"
   ]
  },
  {
   "cell_type": "markdown",
   "metadata": {
    "collapsed": false
   },
   "source": [
    "#### LEARN list of lists"
   ]
  },
  {
   "cell_type": "code",
   "execution_count": 29,
   "metadata": {
    "collapsed": false,
    "id": "AnNFQiWaIQSo"
   },
   "outputs": [
   ],
   "source": [
    "game = [[1,2,0], [2,1,0], [2,1,2]]"
   ]
  },
  {
   "cell_type": "code",
   "execution_count": 30,
   "metadata": {
    "collapsed": false,
    "id": "YyaOsdg9IQSp",
    "outputId": "7a80d3f9-b767-479d-99f6-3525331cd621"
   },
   "outputs": [
    {
     "name": "stdout",
     "output_type": "stream",
     "text": [
      "the 1st row, 1st column element =  1\n"
     ]
    }
   ],
   "source": [
    "print('the 1st row, 1st column element = ', game[0][0])"
   ]
  },
  {
   "cell_type": "code",
   "execution_count": 31,
   "metadata": {
    "collapsed": false,
    "id": "kRwy67_5IQSp"
   },
   "outputs": [
    {
     "name": "stdout",
     "output_type": "stream",
     "text": [
      "the 1st row, 2nd column element =  2\n"
     ]
    }
   ],
   "source": [
    "print('the 1st row, 2nd column element = ', game[0][1])"
   ]
  },
  {
   "cell_type": "code",
   "execution_count": 32,
   "metadata": {
    "collapsed": false,
    "id": "JmDFR1YkIQSq"
   },
   "outputs": [
    {
     "name": "stdout",
     "output_type": "stream",
     "text": [
      "the 1st row, 3rd column element =  0\n"
     ]
    }
   ],
   "source": [
    "print('the 1st row, 3rd column element = ', game[0][2])"
   ]
  },
  {
   "cell_type": "code",
   "execution_count": 33,
   "metadata": {
    "collapsed": false,
    "id": "PraL5_lkIQSq"
   },
   "outputs": [
    {
     "name": "stdout",
     "output_type": "stream",
     "text": [
      "the 2nd row, 1st column element =  2\n"
     ]
    }
   ],
   "source": [
    "print('the 2nd row, 1st column element = ', game[1][0])"
   ]
  },
  {
   "cell_type": "code",
   "execution_count": 34,
   "metadata": {
    "collapsed": false
   },
   "outputs": [
    {
     "name": "stdout",
     "output_type": "stream",
     "text": [
      "the 2nd row, 2nd column element =  1\n"
     ]
    }
   ],
   "source": [
    "print('the 2nd row, 2nd column element = ', game[1][1])"
   ]
  },
  {
   "cell_type": "code",
   "execution_count": 35,
   "metadata": {
    "collapsed": false
   },
   "outputs": [
    {
     "name": "stdout",
     "output_type": "stream",
     "text": [
      "the 2nd row, 3rd column element =  0\n"
     ]
    }
   ],
   "source": [
    "print('the 2nd row, 3rd column element = ', game[1][2])"
   ]
  },
  {
   "cell_type": "code",
   "execution_count": 36,
   "metadata": {
    "collapsed": false
   },
   "outputs": [
    {
     "data": {
      "text/plain": [
       "3"
      ]
     },
     "execution_count": 36,
     "metadata": {
     },
     "output_type": "execute_result"
    }
   ],
   "source": [
    "len(game)"
   ]
  },
  {
   "cell_type": "code",
   "execution_count": 37,
   "metadata": {
    "collapsed": false
   },
   "outputs": [
    {
     "data": {
      "text/plain": [
       "3"
      ]
     },
     "execution_count": 37,
     "metadata": {
     },
     "output_type": "execute_result"
    }
   ],
   "source": [
    "len(game[0])"
   ]
  },
  {
   "cell_type": "code",
   "execution_count": 38,
   "metadata": {
    "collapsed": false
   },
   "outputs": [
    {
     "data": {
      "text/plain": [
       "[1, 2, 0]"
      ]
     },
     "execution_count": 38,
     "metadata": {
     },
     "output_type": "execute_result"
    }
   ],
   "source": [
    "# the first row \n",
    "game[0]"
   ]
  },
  {
   "cell_type": "code",
   "execution_count": 39,
   "metadata": {
    "collapsed": false
   },
   "outputs": [
    {
     "data": {
      "text/plain": [
       "[1, 2, 0]"
      ]
     },
     "execution_count": 39,
     "metadata": {
     },
     "output_type": "execute_result"
    }
   ],
   "source": [
    "# the first row \n",
    "game[0][:]"
   ]
  },
  {
   "cell_type": "code",
   "execution_count": 40,
   "metadata": {
    "collapsed": false
   },
   "outputs": [
    {
     "name": "stdout",
     "output_type": "stream",
     "text": [
      "1\n",
      "2\n",
      "0\n"
     ]
    }
   ],
   "source": [
    "# print all the elements on the first row \n",
    "\n",
    "for col in range(len(game[0])):\n",
    "    print(game[0][col])"
   ]
  },
  {
   "cell_type": "code",
   "execution_count": 41,
   "metadata": {
    "collapsed": false
   },
   "outputs": [
    {
     "data": {
      "text/plain": [
       "[1, 2, 0]"
      ]
     },
     "execution_count": 41,
     "metadata": {
     },
     "output_type": "execute_result"
    }
   ],
   "source": [
    "# the first column, the code below does not work \n",
    "game[:][0]"
   ]
  },
  {
   "cell_type": "code",
   "execution_count": 42,
   "metadata": {
    "collapsed": false
   },
   "outputs": [
    {
     "name": "stdout",
     "output_type": "stream",
     "text": [
      "1\n",
      "2\n",
      "2\n"
     ]
    }
   ],
   "source": [
    "# print all the elements on the first column \n",
    "\n",
    "for row in range(len(game)):\n",
    "    print(game[row][0])"
   ]
  },
  {
   "cell_type": "markdown",
   "metadata": {
    "collapsed": false
   },
   "source": [
    "### In class exercise\n",
    "\n",
    "\n",
    "Suppose a game of Tic Tac Toe is represented as a list of lists. \n",
    "\n",
    "* 0 means an empty square, \n",
    "* 1 means that player 1 put their token in that space, \n",
    "* 2 means that player 2 put their token in that space. \n",
    "\n",
    "Write a program to check whether anyone has won, and tell me which player won, if any. \n",
    "\n",
    "\n",
    "For example: \n",
    "\n",
    "winner_is_2 = [[2, 2, 0],\n",
    "               [2, 1, 0],\n",
    "               [2, 1, 1]]\n",
    "               \n",
    "winner_is_1 = [[1, 2, 0],\n",
    "               [2, 1, 0],\n",
    "               [2, 1, 1]]\n",
    "               \n",
    "no_winner = [[1, 2, 0],\n",
    "             [2, 1, 0],\n",
    "             [2, 1, 2]]               "
   ]
  },
  {
   "cell_type": "code",
   "execution_count": 43,
   "metadata": {
    "collapsed": false,
    "id": "2_DAh5jKIQSq"
   },
   "outputs": [
   ],
   "source": [
    "def checkGrid(grid):\n",
    "    # rows\n",
    "    for x in range(0,3):\n",
    "        row = set([grid[x][0],grid[x][1],grid[x][2]])\n",
    "        if len(row) == 1 and grid[x][0] != 0:\n",
    "            return grid[x][0]\n",
    "\n",
    "    # columns\n",
    "    for x in range(0,3):\n",
    "        column = set([grid[0][x],grid[1][x],grid[2][x]])\n",
    "        if len(column) == 1 and grid[0][x] != 0:\n",
    "            return grid[0][x]\n",
    "\n",
    "    # diagonals\n",
    "    diag1 = set([grid[0][0],grid[1][1],grid[2][2]])\n",
    "    diag2 = set([grid[0][2],grid[1][1],grid[2][0]])\n",
    "    if len(diag1) == 1 or len(diag2) == 1 and grid[1][1] != 0:\n",
    "        return grid[1][1]\n",
    "\n",
    "    return 0\n"
   ]
  },
  {
   "cell_type": "code",
   "execution_count": 44,
   "metadata": {
    "collapsed": false,
    "id": "XUu15QEmIQSr"
   },
   "outputs": [
   ],
   "source": [
    "winner_is_2 = [[2, 2, 0],\n",
    "               [2, 1, 0],\n",
    "               [2, 1, 1]]"
   ]
  },
  {
   "cell_type": "code",
   "execution_count": 45,
   "metadata": {
    "collapsed": false,
    "id": "7ljEHKI4IQSr"
   },
   "outputs": [
    {
     "name": "stdout",
     "output_type": "stream",
     "text": [
      "2\n"
     ]
    }
   ],
   "source": [
    "print(checkGrid(winner_is_2))"
   ]
  },
  {
   "cell_type": "code",
   "execution_count": 46,
   "metadata": {
    "collapsed": false,
    "id": "XI_ClH0CIQSr"
   },
   "outputs": [
   ],
   "source": [
    "winner_is_1 = [[1, 2, 0],\n",
    "               [2, 1, 0],\n",
    "               [2, 1, 1]]"
   ]
  },
  {
   "cell_type": "code",
   "execution_count": 47,
   "metadata": {
    "collapsed": false,
    "id": "F31U5X6aIQSs"
   },
   "outputs": [
    {
     "name": "stdout",
     "output_type": "stream",
     "text": [
      "1\n"
     ]
    }
   ],
   "source": [
    "print(checkGrid(winner_is_1))"
   ]
  },
  {
   "cell_type": "code",
   "execution_count": 48,
   "metadata": {
    "collapsed": false,
    "id": "OOBTfMucIQSs"
   },
   "outputs": [
   ],
   "source": [
    "no_winner = [[1, 2, 0],\n",
    "             [2, 1, 0],\n",
    "             [2, 1, 2]]"
   ]
  },
  {
   "cell_type": "code",
   "execution_count": 49,
   "metadata": {
    "collapsed": false,
    "id": "ob8dGNGuIQSs"
   },
   "outputs": [
    {
     "name": "stdout",
     "output_type": "stream",
     "text": [
      "0\n"
     ]
    }
   ],
   "source": [
    "print(checkGrid(no_winner))"
   ]
  },
  {
   "cell_type": "code",
   "execution_count": 0,
   "metadata": {
    "collapsed": false
   },
   "outputs": [
   ],
   "source": [
   ]
  },
  {
   "cell_type": "code",
   "execution_count": 0,
   "metadata": {
    "collapsed": false
   },
   "outputs": [
   ],
   "source": [
   ]
  },
  {
   "cell_type": "markdown",
   "metadata": {
    "collapsed": false
   },
   "source": [
    "### the rest will be used for challenge "
   ]
  },
  {
   "cell_type": "markdown",
   "metadata": {
    "collapsed": false,
    "id": "vsMmZcYZIQSt"
   },
   "source": [
    "##### Task 3:\n",
    "1) Assume that player 1 (the first player to move) will always be X and player 2 (the second player) will always be O. \n",
    "\n",
    "2) To people who don’t program, starting to count at 0 is a strange concept, so it is better for the user experience if the row counts and column counts start at 1. So, if I want to move starting from (1, 1) instead of (0, 0). \n",
    "\n",
    "3) Ask the user to enter coordinates in the form “row,col” - a number, then a comma, then a number. \n",
    "\n",
    "4) Don’t worry about checking whether someone won the game, but if a player tries to put a piece in a game position where there already is another piece, do not allow the piece to go there.\n",
    "\n",
    "5) Keep track of how many squares are full and automatically stop asking for moves when there are no more valid moves.\n",
    "\n",
    "review: .split() and .strip()"
   ]
  },
  {
   "cell_type": "code",
   "execution_count": 50,
   "metadata": {
    "collapsed": false,
    "id": "sqlJPc3pIQSt"
   },
   "outputs": [
   ],
   "source": [
    "# initialise the game board\n",
    "gameboard = [(['.']*3) for i in range(3)]"
   ]
  },
  {
   "cell_type": "code",
   "execution_count": 51,
   "metadata": {
    "collapsed": false,
    "id": "uiszPGHhIQSt"
   },
   "outputs": [
   ],
   "source": [
    "# variables for input and turn count\n",
    "row_col = [0]\n",
    "turn = 1"
   ]
  },
  {
   "cell_type": "code",
   "execution_count": 52,
   "metadata": {
    "collapsed": false,
    "id": "FNgST81tIQSu"
   },
   "outputs": [
   ],
   "source": [
    "# checks that the input is valid \n",
    "# - that it is in the format \"row,col\"\n",
    "# - that the position is free\n",
    "def input_valid(values):\n",
    "    # input has only two values\n",
    "    if len(values) != 2:\n",
    "        print(\"Input must be two numbers in format row,col e.g.  1,2 \")\n",
    "        return 0\n",
    "    # input is a number between 1 and 3 (inclusive)\n",
    "    try:\n",
    "        if (1 <= int(values[0]) <= 3) and (1 <= int(values[1]) <= 3):\n",
    "            # checks if the position on the board is alreay filled\n",
    "            if gameboard[int(values[0])-1][int(values[1])-1] != '.':\n",
    "                print (\"Position on board already taken.\")\n",
    "                return 0\n",
    "            return 1\n",
    "        else:\n",
    "            print(\"Input values must be numbers between 1 and 3 (inclusive)\")\n",
    "            return 0\n",
    "    except ValueError:\n",
    "        print (\"Input values must be numbers between 1 and 3 (inclusive)\")\n",
    "        return 0"
   ]
  },
  {
   "cell_type": "code",
   "execution_count": 53,
   "metadata": {
    "collapsed": false,
    "id": "EWS76MWqIQSu"
   },
   "outputs": [
   ],
   "source": [
    "# draw the board\n",
    "def draw_board(values, player):\n",
    "    # changes the value to X or O\n",
    "    gameboard[int(values[0])-1][int(values[1])-1]=player\n",
    "\n",
    "    # print the gameboard\n",
    "    for row in gameboard:\n",
    "        print(row)"
   ]
  },
  {
   "cell_type": "code",
   "execution_count": 54,
   "metadata": {
    "collapsed": false,
    "id": "iLGt3-LWIQSu"
   },
   "outputs": [
   ],
   "source": [
    "# calculate if game is over (no more '.' or has winner)\n",
    "def game_over():\n",
    "    searcht = '.'\n",
    "\n",
    "    # check win by row\n",
    "    for i in range(3):\n",
    "        if len(set(gameboard[i])) == 1:\n",
    "            if gameboard[i][1] == '.':\n",
    "                continue\n",
    "            elif gameboard[i][1] == 'X':\n",
    "                print (\"Game over - Player 1 wins\")\n",
    "            #elif gameboard[i][1] == 'O':\n",
    "            else:\n",
    "                print (\"Game over - Player 2 wins\")\n",
    "            return 1\n",
    "\n",
    "    # check win by column\n",
    "    for i in range(3):\n",
    "        if gameboard[0][i] == gameboard[1][i] == gameboard[2][i]:\n",
    "            if gameboard[0][i] == '.':\n",
    "                continue\n",
    "            elif gameboard[0][i] == 'X':\n",
    "                print (\"Game over - Player 1 wins\")\n",
    "            else:\n",
    "                print (\"Game over - Player 2 wins\")\n",
    "            return 1\n",
    "\n",
    "    # check win by diagonal\n",
    "    if (gameboard[0][0] == gameboard[1][1] == gameboard[2][2]) or (gameboard[0][2] == gameboard[1][1] == gameboard[2][0]): \n",
    "        if gameboard[1][1] == 'X':\n",
    "            print (\"Game over - Player 1 wins\")\n",
    "        elif gameboard[1][1] == 'O':\n",
    "            print (\"Game over - Player 2 wins\")\n",
    "        else:\n",
    "            return 0\n",
    "        return 1\n",
    "\n",
    "    # check board is full\n",
    "    for sublist in gameboard:\n",
    "        if searcht in sublist:\n",
    "            return 0\n",
    "\n",
    "    print (\"Game over - the board is filled\")\n",
    "    return 1"
   ]
  },
  {
   "cell_type": "markdown",
   "metadata": {
    "collapsed": false,
    "id": "jwu7UfzoIQSv"
   },
   "source": [
    "## Task 4: put all these three components together to make a two-player Tic Tac Toe game! \n",
    "\n",
    "Your challenge in this exercise is to use the functions from those previous exercises all together in the same program to make a two-player game that you can play with a friend. You should keep track of who won - if there is a winner, show a congratulatory message on the screen. If there are no more moves left, don’t ask for the next player’s move! Ask the players if they want to play again and keep a running tally of who won more - Player 1 or Player 2."
   ]
  },
  {
   "cell_type": "code",
   "execution_count": 55,
   "metadata": {
    "collapsed": false,
    "id": "BS1vhN7oIQSv"
   },
   "outputs": [
   ],
   "source": [
    "def draw_line(width, edge, filling):\n",
    "    print(filling.join([edge] * (width + 1)))"
   ]
  },
  {
   "cell_type": "code",
   "execution_count": 56,
   "metadata": {
    "collapsed": false,
    "id": "lQrerWHCIQSw"
   },
   "outputs": [
   ],
   "source": [
    "def display_winner(player):\n",
    "    if player == 0:\n",
    "        print(\"Tie\")\n",
    "    else:\n",
    "        print(\"Player \" + str(player) + \" wins!\")"
   ]
  },
  {
   "cell_type": "code",
   "execution_count": 57,
   "metadata": {
    "collapsed": false,
    "id": "tIVM1mSOIQSw"
   },
   "outputs": [
   ],
   "source": [
    "def check_row_winner(row):\n",
    "    \"\"\"\n",
    "    Return the player number that wins for that row.\n",
    "    If there is no winner, return 0.\n",
    "    \"\"\"\n",
    "    if row[0] == row[1] and row[1] == row[2]:\n",
    "        return row[0]\n",
    "    return 0"
   ]
  },
  {
   "cell_type": "code",
   "execution_count": 58,
   "metadata": {
    "collapsed": false,
    "id": "ldzpzryPIQSw"
   },
   "outputs": [
   ],
   "source": [
    "def get_col(game, col_number):\n",
    "    return [game[x][col_number] for x in range(3)]"
   ]
  },
  {
   "cell_type": "code",
   "execution_count": 59,
   "metadata": {
    "collapsed": false,
    "id": "FDssQN_qIQSx"
   },
   "outputs": [
   ],
   "source": [
    "def get_row(game, row_number):\n",
    "    return game[row_number]"
   ]
  },
  {
   "cell_type": "code",
   "execution_count": 60,
   "metadata": {
    "collapsed": false,
    "id": "5OeLvHyJIQSy"
   },
   "outputs": [
   ],
   "source": [
    "def check_winner(game):\n",
    "    game_slices = []\n",
    "    for index in range(3):\n",
    "        game_slices.append(get_row(game, index))\n",
    "        game_slices.append(get_col(game, index))\n",
    "    # check diagonals\n",
    "    down_diagonal = [game[x][x] for x in range(3)]\n",
    "    up_diagonal = [game[0][2], game[1][1], game[2][0]]\n",
    "    game_slices.append(down_diagonal)\n",
    "    game_slices.append(up_diagonal)\n",
    "    for game_slice in game_slices:\n",
    "        winner = check_row_winner(game_slice)\n",
    "        if winner != 0:\n",
    "            return winner\n",
    "\n",
    "    return winner"
   ]
  },
  {
   "cell_type": "code",
   "execution_count": 61,
   "metadata": {
    "collapsed": false,
    "id": "Z9wZokBtIQSy"
   },
   "outputs": [
   ],
   "source": [
    "def start_game():\n",
    "    return [[0, 0, 0] for x in range(3)]"
   ]
  },
  {
   "cell_type": "code",
   "execution_count": 62,
   "metadata": {
    "collapsed": false,
    "id": "P1_WenfNIQS0"
   },
   "outputs": [
   ],
   "source": [
    "def display_game(game):\n",
    "    d = {2: \"O\", 1: \"X\", 0: \"_\"}\n",
    "    draw_line(3, \" \", \"_\")\n",
    "    for row_num in range(3):\n",
    "        new_row = []\n",
    "        for col_num in range(3):\n",
    "            new_row.append(d[game[row_num][col_num]])\n",
    "        print(\"|\" + \"|\".join(new_row) + \"|\")"
   ]
  },
  {
   "cell_type": "code",
   "execution_count": 63,
   "metadata": {
    "collapsed": false,
    "id": "XiNGk6jlIQS0"
   },
   "outputs": [
   ],
   "source": [
    "def add_piece(game, player, row, column):\n",
    "    \"\"\"\n",
    "    game: game state\n",
    "    player: player number\n",
    "    row: 0-index row\n",
    "    column: 0-index column\n",
    "    \"\"\"\n",
    "    game[row][column] = player\n",
    "    return game"
   ]
  },
  {
   "cell_type": "code",
   "execution_count": 64,
   "metadata": {
    "collapsed": false,
    "id": "vOlK4mwOIQS0"
   },
   "outputs": [
   ],
   "source": [
    "def check_space_empty(game, row, column):\n",
    "    return game[row][column] == 0"
   ]
  },
  {
   "cell_type": "code",
   "execution_count": 65,
   "metadata": {
    "collapsed": false,
    "id": "W05ILbG4IQS1"
   },
   "outputs": [
   ],
   "source": [
    "def convert_input_to_coordinate(user_input):\n",
    "    return user_input - 1"
   ]
  },
  {
   "cell_type": "code",
   "execution_count": 66,
   "metadata": {
    "collapsed": false,
    "id": "OZqeOoyyIQS2"
   },
   "outputs": [
   ],
   "source": [
    "def switch_player(player):\n",
    "    if player == 1:\n",
    "        return 2\n",
    "    else:\n",
    "        return 1"
   ]
  },
  {
   "cell_type": "code",
   "execution_count": 67,
   "metadata": {
    "collapsed": false,
    "id": "P92wLnuTIQS2"
   },
   "outputs": [
   ],
   "source": [
    "def moves_exist(game):\n",
    "    for row_num in range(3):\n",
    "        for col_num in range(3):\n",
    "            if game[row_num][col_num] == 0:\n",
    "                return True\n",
    "    return False"
   ]
  },
  {
   "cell_type": "code",
   "execution_count": 68,
   "metadata": {
    "cocalc": {
     "outputs": {
      "1": {
       "name": "input",
       "opts": {
        "password": false,
        "prompt": "Which row? (start with 1) "
       },
       "output_type": "stream"
      },
      "2": {
       "name": "input",
       "opts": {
        "password": false,
        "prompt": "Which column? (start with 1) "
       },
       "output_type": "stream",
       "value": "2"
      },
      "3": {
       "name": "input",
       "opts": {
        "password": false,
        "prompt": "Which row? (start with 1) "
       },
       "output_type": "stream"
      },
      "5": {
       "name": "input",
       "opts": {
        "password": false,
        "prompt": "Which column? (start with 1) "
       },
       "output_type": "stream",
       "value": "3"
      },
      "6": {
       "name": "input",
       "opts": {
        "password": false,
        "prompt": "Which row? (start with 1) "
       },
       "output_type": "stream"
      }
     }
    },
    "collapsed": false,
    "id": "pqzaXX1qIQS3",
    "outputId": "019ab6bd-f97f-47d5-818a-72530c5cd4a2"
   },
   "outputs": [
    {
     "name": "stdout",
     "output_type": "stream",
     "text": [
      " _ _ _ \n",
      "|_|_|_|\n",
      "|_|_|_|\n",
      "|_|_|_|\n",
      "Currently player: 1\n"
     ]
    },
    {
     "name": "stdout",
     "output_type": "stream",
     "text": "Which row? (start with 1)  "
    }
   ],
   "source": [
    "if __name__ == '__main__':\n",
    "    game = start_game()\n",
    "    display_game(game)\n",
    "    player = 1\n",
    "    winner = 0  # the winner is not yet defined\n",
    "\n",
    "    # go on forever\n",
    "    while winner == 0 and moves_exist(game):\n",
    "        print(\"Currently player: \" + str(player))\n",
    "        available = False\n",
    "        while not available:\n",
    "            row = convert_input_to_coordinate(int(input(\"Which row? (start with 1) \")))\n",
    "            column = convert_input_to_coordinate(int(input(\"Which column? (start with 1) \")))\n",
    "            available = check_space_empty(game, row, column)\n",
    "        game = add_piece(game, player, row, column)\n",
    "        display_game(game)\n",
    "        player = switch_player(player)\n",
    "        winner = check_winner(game)\n",
    "    display_winner(winner)"
   ]
  },
  {
   "cell_type": "code",
   "execution_count": 0,
   "metadata": {
    "collapsed": false,
    "id": "N7ITFMZbIQS3"
   },
   "outputs": [
   ],
   "source": [
   ]
  },
  {
   "cell_type": "code",
   "execution_count": 0,
   "metadata": {
    "collapsed": false,
    "id": "c_60TdiRIQS4"
   },
   "outputs": [
   ],
   "source": [
   ]
  },
  {
   "cell_type": "code",
   "execution_count": 0,
   "metadata": {
    "collapsed": false,
    "id": "W_QseGcBIQS4"
   },
   "outputs": [
   ],
   "source": [
   ]
  },
  {
   "cell_type": "code",
   "execution_count": 0,
   "metadata": {
    "collapsed": false,
    "id": "YvULmZLIIQS4"
   },
   "outputs": [
   ],
   "source": [
   ]
  },
  {
   "cell_type": "code",
   "execution_count": 0,
   "metadata": {
    "collapsed": false,
    "id": "_TafCeIHIQS5"
   },
   "outputs": [
   ],
   "source": [
   ]
  },
  {
   "cell_type": "code",
   "execution_count": 0,
   "metadata": {
    "collapsed": false,
    "id": "BZgoT968IQS5"
   },
   "outputs": [
   ],
   "source": [
   ]
  },
  {
   "cell_type": "code",
   "execution_count": 0,
   "metadata": {
    "collapsed": false,
    "id": "gPm1h9tKIQS5"
   },
   "outputs": [
   ],
   "source": [
   ]
  },
  {
   "cell_type": "code",
   "execution_count": 0,
   "metadata": {
    "collapsed": false,
    "id": "owaSdTutIQS5"
   },
   "outputs": [
   ],
   "source": [
   ]
  },
  {
   "cell_type": "code",
   "execution_count": 0,
   "metadata": {
    "collapsed": false,
    "id": "h-S9dbZ-IQS5"
   },
   "outputs": [
   ],
   "source": [
   ]
  },
  {
   "cell_type": "code",
   "execution_count": 0,
   "metadata": {
    "collapsed": false,
    "id": "5CJhPFoiIQS5"
   },
   "outputs": [
   ],
   "source": [
   ]
  },
  {
   "cell_type": "code",
   "execution_count": 0,
   "metadata": {
    "collapsed": false,
    "id": "eUVoauUOIQS5"
   },
   "outputs": [
   ],
   "source": [
   ]
  },
  {
   "cell_type": "code",
   "execution_count": 0,
   "metadata": {
    "collapsed": false,
    "id": "DTgFYAHpIQS6"
   },
   "outputs": [
   ],
   "source": [
   ]
  },
  {
   "cell_type": "code",
   "execution_count": 0,
   "metadata": {
    "collapsed": false,
    "id": "8hDvIv_RIQS6"
   },
   "outputs": [
   ],
   "source": [
   ]
  },
  {
   "cell_type": "code",
   "execution_count": 0,
   "metadata": {
    "collapsed": false,
    "id": "KLBpy6b1NEl9"
   },
   "outputs": [
   ],
   "source": [
   ]
  },
  {
   "cell_type": "code",
   "execution_count": 0,
   "metadata": {
    "collapsed": false,
    "id": "0ixhbuw5NGOO"
   },
   "outputs": [
   ],
   "source": [
   ]
  },
  {
   "cell_type": "code",
   "execution_count": 0,
   "metadata": {
    "collapsed": false,
    "id": "aBLH55PJNLgU"
   },
   "outputs": [
   ],
   "source": [
   ]
  },
  {
   "cell_type": "code",
   "execution_count": 0,
   "metadata": {
    "collapsed": false,
    "id": "FZjkkO2LOATC"
   },
   "outputs": [
   ],
   "source": [
   ]
  }
 ],
 "metadata": {
  "colab": {
   "name": "Tic_Tac_Toe.ipynb",
   "provenance": [
   ],
   "toc_visible": true
  },
  "kernelspec": {
   "display_name": "Python 3 (Ubuntu Linux)",
   "language": "python",
   "name": "python3-ubuntu",
   "resource_dir": "/usr/local/share/jupyter/kernels/python3-ubuntu"
  },
  "language_info": {
   "codemirror_mode": {
    "name": "ipython",
    "version": 3
   },
   "file_extension": ".py",
   "mimetype": "text/x-python",
   "name": "python",
   "nbconvert_exporter": "python",
   "pygments_lexer": "ipython3",
   "version": "3.8.2"
  }
 },
 "nbformat": 4,
 "nbformat_minor": 4
}