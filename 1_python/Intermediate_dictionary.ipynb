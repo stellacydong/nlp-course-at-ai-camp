{
 "cells": [
  {
   "cell_type": "markdown",
   "metadata": {
    "collapsed": false
   },
   "source": [
    "# build vocabulary game \n",
    "\n",
    "objectives: \n",
    "\n",
    "* review for loop, conditional statement (if ... else if ... else)\n",
    "* learn dictionary \n",
    "* learn import libraries such as random \n",
    "* learn string format "
   ]
  },
  {
   "cell_type": "markdown",
   "metadata": {
    "collapsed": false
   },
   "source": [
    "\n",
    "<center />\n",
    "<img src=\"https://globalmartialarts.university/wp-content/uploads/2021/01/Shotokan-Beginners-Guide-Infographic-2.jpg\" width=560 height=660 />\n"
   ]
  },
  {
   "cell_type": "code",
   "execution_count": 1,
   "metadata": {
    "collapsed": false
   },
   "outputs": [
   ],
   "source": [
    "# create an empty dicionary \n",
    "EmptyDictionary = {}\n"
   ]
  },
  {
   "cell_type": "markdown",
   "metadata": {
    "collapsed": false
   },
   "source": [
    "In general, dictionary is in the following format:\n",
    "\n",
    "#### when you have only one item \n",
    "dict = {key : value}\n",
    "\n",
    "#### when you have more than one item \n",
    "dict = {key1 : value1, \n",
    "        key2 : value2}"
   ]
  },
  {
   "cell_type": "markdown",
   "metadata": {
    "collapsed": false
   },
   "source": [
    "## Task 1: create the dictionary for vocabulary "
   ]
  },
  {
   "cell_type": "code",
   "execution_count": 2,
   "metadata": {
    "collapsed": false
   },
   "outputs": [
   ],
   "source": [
    "vocabDictionary = {      #dictionary/key pairs for definitions\n",
    "    \"shizentai\"   : \"natural stance\",\n",
    "    \"choku-zuki\"  : \"straight punch\",\n",
    "    \"oi-zuki\"     : \"front lunge punch\",\n",
    "    \"gyaku-zuki\"  : \"reverse punch\",\n",
    "    \"gedan barai\" : \"down block\",\n",
    "    \"age-uke\"     : \"rising block\"\n",
    "    }"
   ]
  },
  {
   "cell_type": "code",
   "execution_count": 3,
   "metadata": {
    "collapsed": false
   },
   "outputs": [
    {
     "data": {
      "text/plain": [
       "dict_keys(['shizentai', 'choku-zuki', 'oi-zuki', 'gyaku-zuki', 'gedan barai', 'age-uke'])"
      ]
     },
     "execution_count": 3,
     "metadata": {
     },
     "output_type": "execute_result"
    }
   ],
   "source": [
    "# print all the keys\n",
    "vocabDictionary.keys()"
   ]
  },
  {
   "cell_type": "code",
   "execution_count": 4,
   "metadata": {
    "collapsed": false
   },
   "outputs": [
    {
     "name": "stdout",
     "output_type": "stream",
     "text": [
      "['shizentai', 'choku-zuki', 'oi-zuki', 'gyaku-zuki', 'gedan barai', 'age-uke']\n"
     ]
    }
   ],
   "source": [
    "#turns words into a list\n",
    "keyword_list = list(vocabDictionary.keys()) \n",
    "print(keyword_list)"
   ]
  },
  {
   "cell_type": "code",
   "execution_count": 5,
   "metadata": {
    "collapsed": false
   },
   "outputs": [
    {
     "data": {
      "text/plain": [
       "dict_values(['natural stance', 'straight punch', 'front lunge punch', 'reverse punch', 'down block', 'rising block'])"
      ]
     },
     "execution_count": 5,
     "metadata": {
     },
     "output_type": "execute_result"
    }
   ],
   "source": [
    "# print all the values\n",
    "vocabDictionary.values()"
   ]
  },
  {
   "cell_type": "markdown",
   "metadata": {
    "collapsed": false
   },
   "source": [
    "## Task 2: Shuffle the list "
   ]
  },
  {
   "cell_type": "code",
   "execution_count": 6,
   "metadata": {
    "collapsed": false
   },
   "outputs": [
   ],
   "source": [
    "# https://docs.python.org/3/library/random.html\n",
    "import random\n",
    "\n",
    "random.shuffle(keyword_list)"
   ]
  },
  {
   "cell_type": "code",
   "execution_count": 7,
   "metadata": {
    "collapsed": false
   },
   "outputs": [
    {
     "name": "stdout",
     "output_type": "stream",
     "text": [
      "['age-uke', 'choku-zuki', 'shizentai', 'gedan barai', 'gyaku-zuki', 'oi-zuki']\n"
     ]
    }
   ],
   "source": [
    "print(keyword_list)"
   ]
  },
  {
   "cell_type": "markdown",
   "metadata": {
    "collapsed": false
   },
   "source": [
    "### Learn The String format() Method\n",
    "https://docs.python.org/3/tutorial/inputoutput.html"
   ]
  },
  {
   "cell_type": "code",
   "execution_count": 8,
   "metadata": {
    "collapsed": false
   },
   "outputs": [
    {
     "name": "stdout",
     "output_type": "stream",
     "text": [
      "We are the knights who say \"Ni!\"\n"
     ]
    }
   ],
   "source": [
    "# Basic usage of the str.format() method looks like this:\n",
    "print('We are the {} who say \"{}!\"'.format('knights', 'Ni'))"
   ]
  },
  {
   "cell_type": "code",
   "execution_count": 9,
   "metadata": {
    "collapsed": false
   },
   "outputs": [
    {
     "name": "stdout",
     "output_type": "stream",
     "text": [
      "spam and eggs\n"
     ]
    }
   ],
   "source": [
    "# A number in the brackets can be used to refer to the position of the object passed into the str.format() method.\n",
    "\n",
    "print('{0} and {1}'.format('spam', 'eggs'))"
   ]
  },
  {
   "cell_type": "code",
   "execution_count": 10,
   "metadata": {
    "collapsed": false
   },
   "outputs": [
    {
     "name": "stdout",
     "output_type": "stream",
     "text": [
      "eggs and spam\n"
     ]
    }
   ],
   "source": [
    "print('{1} and {0}'.format('spam', 'eggs'))"
   ]
  },
  {
   "cell_type": "code",
   "execution_count": 11,
   "metadata": {
    "collapsed": false
   },
   "outputs": [
    {
     "name": "stdout",
     "output_type": "stream",
     "text": [
      "This spam is absolutely horrible.\n"
     ]
    }
   ],
   "source": [
    "# If keyword arguments are used in the str.format() method, their values are referred to by using the name of the argument.\n",
    "\n",
    "print('This {food} is {adjective}.'.format(food='spam', adjective='absolutely horrible'))"
   ]
  },
  {
   "cell_type": "markdown",
   "metadata": {
    "collapsed": false
   },
   "source": [
    "## Task 3: \n",
    "\n",
    "* display the key \n",
    "* ask the user to enter the answer (value)\n",
    "* check whether the answer is right or wrong \n",
    "* return how many right answers and how many wrong answers \n"
   ]
  },
  {
   "cell_type": "code",
   "execution_count": 12,
   "metadata": {
    "cocalc": {
     "outputs": {
      "1": {
       "name": "input",
       "opts": {
        "password": false,
        "prompt": "ANSWER: "
       },
       "output_type": "stream",
       "value": ""
      },
      "11": {
       "name": "input",
       "opts": {
        "password": false,
        "prompt": "ANSWER: "
       },
       "output_type": "stream",
       "value": ""
      },
      "3": {
       "name": "input",
       "opts": {
        "password": false,
        "prompt": "ANSWER: "
       },
       "output_type": "stream",
       "value": ""
      },
      "5": {
       "name": "input",
       "opts": {
        "password": false,
        "prompt": "ANSWER: "
       },
       "output_type": "stream",
       "value": ""
      },
      "7": {
       "name": "input",
       "opts": {
        "password": false,
        "prompt": "ANSWER: "
       },
       "output_type": "stream",
       "value": ""
      },
      "9": {
       "name": "input",
       "opts": {
        "password": false,
        "prompt": "ANSWER: "
       },
       "output_type": "stream",
       "value": ""
      }
     }
    },
    "collapsed": false
   },
   "outputs": [
    {
     "name": "stdout",
     "output_type": "stream",
     "text": [
      "age-uke\n"
     ]
    },
    {
     "name": "stdout",
     "output_type": "stream",
     "text": "ANSWER:  "
    },
    {
     "name": "stdout",
     "output_type": "stream",
     "text": [
      "rising block\n",
      " \n",
      "WRONG\n",
      "_________________________\n",
      "choku-zuki\n"
     ]
    },
    {
     "name": "stdout",
     "output_type": "stream",
     "text": "ANSWER:  "
    },
    {
     "name": "stdout",
     "output_type": "stream",
     "text": [
      "straight punch\n",
      " \n",
      "WRONG\n",
      "_________________________\n",
      "shizentai\n"
     ]
    },
    {
     "name": "stdout",
     "output_type": "stream",
     "text": "ANSWER:  "
    },
    {
     "name": "stdout",
     "output_type": "stream",
     "text": [
      "natural stance\n",
      " \n",
      "WRONG\n",
      "_________________________\n",
      "gedan barai\n"
     ]
    },
    {
     "name": "stdout",
     "output_type": "stream",
     "text": "ANSWER:  "
    },
    {
     "name": "stdout",
     "output_type": "stream",
     "text": [
      "down block\n",
      " \n",
      "WRONG\n",
      "_________________________\n",
      "gyaku-zuki\n"
     ]
    },
    {
     "name": "stdout",
     "output_type": "stream",
     "text": "ANSWER:  "
    },
    {
     "name": "stdout",
     "output_type": "stream",
     "text": [
      "reverse punch\n",
      " \n",
      "WRONG\n",
      "_________________________\n",
      "oi-zuki\n"
     ]
    },
    {
     "name": "stdout",
     "output_type": "stream",
     "text": "ANSWER:  "
    },
    {
     "name": "stdout",
     "output_type": "stream",
     "text": [
      "front lunge punch\n",
      " \n",
      "WRONG\n",
      "_________________________\n"
     ]
    }
   ],
   "source": [
    "correct = 0\n",
    "wrong = 0\n",
    "for keyword in keyword_list:\n",
    "    \n",
    "    print(\"{}\".format(keyword))\n",
    "    userInputAnswer = input(\"ANSWER: \")\n",
    "    print(vocabDictionary[keyword])\n",
    "    print(\" \")\n",
    "\n",
    "    if userInputAnswer == (vocabDictionary[keyword]):\n",
    "        print(\"CORRECT\")\n",
    "        correct += 1\n",
    "    else:\n",
    "        print(\"WRONG\")\n",
    "        wrong += 1\n",
    "    print('_'*25)   #line separator"
   ]
  },
  {
   "cell_type": "markdown",
   "metadata": {
    "collapsed": false
   },
   "source": [
    "## Task 4: put everything together. \n",
    "\n",
    "Ask the user if he/she wants to play the game. If the answer is yes, keep runing the program. Otherwise, stop. "
   ]
  },
  {
   "cell_type": "code",
   "execution_count": 13,
   "metadata": {
    "cocalc": {
     "outputs": {
      "0": {
       "name": "input",
       "opts": {
        "password": false,
        "prompt": "Play game? ('y' to continue) "
       },
       "output_type": "stream",
       "value": ""
      },
      "10": {
       "name": "input",
       "opts": {
        "password": false,
        "prompt": "ANSWER: "
       },
       "output_type": "stream",
       "value": "d"
      },
      "12": {
       "name": "input",
       "opts": {
        "password": false,
        "prompt": "ANSWER: "
       },
       "output_type": "stream",
       "value": "f"
      },
      "14": {
       "name": "input",
       "opts": {
        "password": false,
        "prompt": "Play again? ('y' to continue) "
       },
       "output_type": "stream",
       "value": "n"
      },
      "2": {
       "name": "input",
       "opts": {
        "password": false,
        "prompt": "ANSWER: "
       },
       "output_type": "stream",
       "value": "d"
      },
      "4": {
       "name": "input",
       "opts": {
        "password": false,
        "prompt": "ANSWER: "
       },
       "output_type": "stream",
       "value": "a"
      },
      "6": {
       "name": "input",
       "opts": {
        "password": false,
        "prompt": "ANSWER: "
       },
       "output_type": "stream",
       "value": "f"
      },
      "8": {
       "name": "input",
       "opts": {
        "password": false,
        "prompt": "ANSWER: "
       },
       "output_type": "stream",
       "value": "a"
      }
     }
    },
    "collapsed": false
   },
   "outputs": [
    {
     "name": "stdout",
     "output_type": "stream",
     "text": "Play game? ('y' to continue)  "
    },
    {
     "name": "stdout",
     "output_type": "stream",
     "text": [
      " \n",
      " \n",
      "Thanks for playing\n"
     ]
    }
   ],
   "source": [
    "import random\n",
    "\n",
    "answer = input(\"Play game? ('y' to continue) \")\n",
    "print(\" \")\n",
    "while answer == \"y\":\n",
    "\n",
    "    vocabDictionary = {      #dictionary/key pairs for definitions\n",
    "    \"shizentai\"   : \"natural stance\",\n",
    "    \"choku-zuki\"  : \"straight punch\",\n",
    "    \"oi-zuki\"     : \"front lunge punch\",\n",
    "    \"gyaku-zuki\"  : \"reverse punch\",\n",
    "    \"gedan barai\" : \"down block\",\n",
    "    \"age-uke\"     : \"rising block\"\n",
    "    }\n",
    "\n",
    "    keyword_list = list(vocabDictionary.keys()) #turns words into a list\n",
    "\n",
    "    random.shuffle(keyword_list) #shuffle keywords\n",
    "    correct = 0\n",
    "    wrong = 0\n",
    "    for keyword in keyword_list:\n",
    "        display = \"{}\"\n",
    "     \n",
    "        print(display.format(keyword))\n",
    "        userInputAnswer = input(\"ANSWER: \")\n",
    "        print(vocabDictionary[keyword])\n",
    "        print(\" \")\n",
    "\n",
    "        if userInputAnswer == (vocabDictionary[keyword]):\n",
    "            print(\"CORRECT\")\n",
    "            correct += 1\n",
    "        else:\n",
    "            print(\"WRONG\")\n",
    "            wrong += 1\n",
    "        print('_'*25)   #line separator\n",
    "        \n",
    "    # final score\n",
    "    displayScore = \"SCORE: {} correct and {} wrong\"\n",
    "    print(displayScore.format(correct, wrong))\n",
    "    answer = input(\"Play again? ('y' to continue) \")\n",
    "print(\" \")\n",
    "print(\"Thanks for playing\")"
   ]
  },
  {
   "cell_type": "code",
   "execution_count": 0,
   "metadata": {
    "collapsed": false
   },
   "outputs": [
   ],
   "source": [
   ]
  },
  {
   "cell_type": "code",
   "execution_count": 0,
   "metadata": {
    "collapsed": false
   },
   "outputs": [
   ],
   "source": [
   ]
  },
  {
   "cell_type": "code",
   "execution_count": 0,
   "metadata": {
    "collapsed": false
   },
   "outputs": [
   ],
   "source": [
   ]
  },
  {
   "cell_type": "code",
   "execution_count": 0,
   "metadata": {
    "collapsed": false
   },
   "outputs": [
   ],
   "source": [
   ]
  },
  {
   "cell_type": "code",
   "execution_count": 0,
   "metadata": {
    "collapsed": false
   },
   "outputs": [
   ],
   "source": [
   ]
  },
  {
   "cell_type": "code",
   "execution_count": 0,
   "metadata": {
    "collapsed": false
   },
   "outputs": [
   ],
   "source": [
   ]
  },
  {
   "cell_type": "code",
   "execution_count": 0,
   "metadata": {
    "collapsed": false
   },
   "outputs": [
   ],
   "source": [
   ]
  },
  {
   "cell_type": "code",
   "execution_count": 0,
   "metadata": {
    "collapsed": false
   },
   "outputs": [
   ],
   "source": [
   ]
  },
  {
   "cell_type": "code",
   "execution_count": 0,
   "metadata": {
    "collapsed": false
   },
   "outputs": [
   ],
   "source": [
   ]
  },
  {
   "cell_type": "code",
   "execution_count": 0,
   "metadata": {
    "collapsed": false
   },
   "outputs": [
   ],
   "source": [
   ]
  },
  {
   "cell_type": "code",
   "execution_count": 0,
   "metadata": {
    "collapsed": false
   },
   "outputs": [
   ],
   "source": [
   ]
  },
  {
   "cell_type": "code",
   "execution_count": 0,
   "metadata": {
    "collapsed": false
   },
   "outputs": [
   ],
   "source": [
   ]
  },
  {
   "cell_type": "code",
   "execution_count": 0,
   "metadata": {
    "collapsed": false
   },
   "outputs": [
   ],
   "source": [
   ]
  },
  {
   "cell_type": "code",
   "execution_count": 0,
   "metadata": {
    "collapsed": false
   },
   "outputs": [
   ],
   "source": [
   ]
  },
  {
   "cell_type": "code",
   "execution_count": 0,
   "metadata": {
    "collapsed": false
   },
   "outputs": [
   ],
   "source": [
   ]
  }
 ],
 "metadata": {
  "kernelspec": {
   "display_name": "Python 3 (Ubuntu Linux)",
   "language": "python",
   "name": "python3-ubuntu"
  },
  "language_info": {
   "codemirror_mode": {
    "name": "ipython",
    "version": 3
   },
   "file_extension": ".py",
   "mimetype": "text/x-python",
   "name": "python",
   "nbconvert_exporter": "python",
   "pygments_lexer": "ipython3",
   "version": "3.8.2"
  }
 },
 "nbformat": 4,
 "nbformat_minor": 4
}